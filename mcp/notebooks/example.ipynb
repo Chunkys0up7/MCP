{
 "cells": [
  {
   "cell_type": "markdown",
   "id": "0e6439dc",
   "metadata": {},
   "source": [
    "# Example MCP Notebook\n",
    "\n",
    "This notebook demonstrates a simple data analysis, plot, and LLM call."
   ]
  },
  {
   "cell_type": "code",
   "execution_count": null,
   "id": "9e2cb841",
   "metadata": {},
   "outputs": [],
   "source": [
    "import pandas as pd\n",
    "import numpy as np\n",
    "import matplotlib.pyplot as plt\n",
    "\n",
    "# Generate sample data\n",
    "df = pd.DataFrame({\n",
    "    \"x\": np.arange(10),\n",
    "    \"y\": np.random.randn(10)\n",
    "})\n",
    "\n",
    "# Plot\n",
    "df.plot(x=\"x\", y=\"y\", kind=\"line\", title=\"Sample Plot\")\n",
    "plt.show()"
   ]
  },
  {
   "cell_type": "code",
   "execution_count": null,
   "id": "9e08a3be",
   "metadata": {},
   "outputs": [],
   "source": [
    "import os\n",
    "import anthropic\n",
    "\n",
    "api_key = os.getenv(\"ANTHROPIC_API_KEY\")\n",
    "if not api_key:\n",
    "    raise ValueError(\"ANTHROPIC_API_KEY not set in environment\")\n",
    "client = anthropic.Anthropic(api_key=api_key)\n",
    "response = client.messages.create(model=\"claude-3-sonnet-20240229\",\n",
    "    max_tokens=256,\n",
    "    messages=[{\n",
    "        \"role\": \"user\",\n",
    "        \"content\": \"Say hello from Claude!\"\n",
    "    }])\n",
    "print(\"Claude says:\", response.content)"
   ]
  }
 ],
 "metadata": {
  "kernelspec": {
   "display_name": "Python 3",
   "language": "python",
   "name": "python3"
  },
  "language_info": {
   "name": "python",
   "version": "3.11"
  }
 },
 "nbformat": 4,
 "nbformat_minor": 5
}
